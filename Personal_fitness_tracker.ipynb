{
  "nbformat": 4,
  "nbformat_minor": 0,
  "metadata": {
    "colab": {
      "provenance": [],
      "authorship_tag": "ABX9TyN8kTmVol97X+12dsj8XYrg",
      "include_colab_link": true
    },
    "kernelspec": {
      "name": "python3",
      "display_name": "Python 3"
    },
    "language_info": {
      "name": "python"
    }
  },
  "cells": [
    {
      "cell_type": "markdown",
      "metadata": {
        "id": "view-in-github",
        "colab_type": "text"
      },
      "source": [
        "<a href=\"https://colab.research.google.com/github/Tanvir1772/Personal-Fitness-Tracker/blob/main/Personal_fitness_tracker.ipynb\" target=\"_parent\"><img src=\"https://colab.research.google.com/assets/colab-badge.svg\" alt=\"Open In Colab\"/></a>"
      ]
    },
    {
      "cell_type": "code",
      "execution_count": 13,
      "metadata": {
        "colab": {
          "base_uri": "https://localhost:8080/"
        },
        "id": "Xp2JLUj9eGAT",
        "outputId": "5cb7e4d3-1c28-4b6e-acee-8046bde6bb32"
      },
      "outputs": [
        {
          "output_type": "stream",
          "name": "stdout",
          "text": [
            "Enter the value for Date(dd/mm/yyyy):12/12/1212\n",
            "Enter the value for Activity Name(e.g. running,cycling,yoga etc):yoga\n",
            "Enter the value for Duration(in minutes):45\n",
            "Enter the value for Calories Burned:1024\n",
            "dict: {'Date(dd/mm/yyyy)': '12/12/1212', 'Activity Name(e.g. running,cycling,yoga etc)': 'yoga', 'Duration(in minutes)': '45', 'Calories Burned': '1024'}\n",
            "saved to csv file\n"
          ]
        }
      ],
      "source": [
        "#activity tracking\n",
        "import csv\n",
        "fields=[\"Date(dd/mm/yyyy)\",\"Activity Name(e.g. running,cycling,yoga etc)\",\"Duration(in minutes)\",\"Calories Burned\"]\n",
        "\n",
        "dict_fields={\n",
        "    key:None\n",
        "    for key in fields\n",
        "}\n",
        "\n",
        "for key in fields:\n",
        "  value=input(f\"Enter the value for {key}:\")\n",
        "  dict_fields[key]=value\n",
        "\n",
        "\n",
        "csv_filename=\"Activity_tracking.csv\"\n",
        "with open(csv_filename,mode=\"w\",newline=\"\") as file:\n",
        "  writer=csv.DictWriter(file,fieldnames=fields)\n",
        "  writer.writeheader()\n",
        "  writer.writerow(dict_fields)\n",
        "\n",
        "print(\"dict:\",dict_fields)\n",
        "print(\"saved to csv file\")"
      ]
    },
    {
      "cell_type": "code",
      "source": [],
      "metadata": {
        "id": "Y5NXbKX6S_AY"
      },
      "execution_count": null,
      "outputs": []
    }
  ]
}